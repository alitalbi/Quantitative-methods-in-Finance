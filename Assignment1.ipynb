#!/usr/bin/env python3
# -*- coding: utf-8 -*-
"""
Created on Wed Sep  8 19:35:37 2021

@author: talbi
"""
import plotly.express as px
import numpy as np
import pandas as pd 
import os
#P.34

#Question3
os.chdir('/Users/talbi/Downloads')
data= pd.read_csv('Webstat_Export_20210908.csv',sep = ';', encoding = 'latin1', skiprows = [0,1,2,3,4])

print(data)

#We replaced ',' by '.'
for i in range(0,len(data)):
    data.iloc[i,1]= data.iloc[i,1].replace(',','.')
float=np.vectorize(float)    
#Now we can transform the data into float 
data.iloc[:,1] = float(data.iloc[:,1])


data=data[::-1]
data.index=data['Source :']
data

data.iloc[:,1].plot(title='French proprety prices')
data.drop('Source :',axis=1,inplace=True)

ax=data.iloc[:,0].plot(title='French proprety prices')
ax.vlines(x=93,ymin=0,ymax=120)

data['Var'] = data.iloc[:,0]/data.iloc[:,0].shift(1) - 1

#ax2=data['Var'].plot()
#ax2.vlines(x=93,ymin=-0.05,ymax=0.06)

data_new=pd.DataFrame(data['Banque de France (FR2)'])
data_new.index = pd.date_range('1996','2022',freq='Q')[:-3]
print(data_new)

fig = px.line(data_new.iloc[:,0])
fig.update_xaxes(rangeslider_visible = True)
fig.show()
